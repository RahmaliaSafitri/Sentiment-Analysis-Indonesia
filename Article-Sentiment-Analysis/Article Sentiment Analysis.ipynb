{
 "cells": [
  {
   "cell_type": "code",
   "execution_count": 1,
   "metadata": {},
   "outputs": [],
   "source": [
    "# import library\n",
    "from newspaper import Article\n",
    "from textblob import TextBlob"
   ]
  },
  {
   "cell_type": "code",
   "execution_count": 2,
   "metadata": {},
   "outputs": [],
   "source": [
    "# Get the article\n",
    "url = 'https://www.cnnindonesia.com/ekonomi/20200812164404-532-535010/pemerintah-bakal-evaluasi-lagi-program-kartu-prakerja'\n",
    "article = Article(url)"
   ]
  },
  {
   "cell_type": "code",
   "execution_count": 3,
   "metadata": {},
   "outputs": [],
   "source": [
    "# Download the article\n",
    "article.download()"
   ]
  },
  {
   "cell_type": "code",
   "execution_count": 4,
   "metadata": {},
   "outputs": [],
   "source": [
    "# Parse the article\n",
    "article.parse()"
   ]
  },
  {
   "cell_type": "code",
   "execution_count": 5,
   "metadata": {},
   "outputs": [],
   "source": [
    "# Apply nlp(natural language processing) on article\n",
    "article.nlp()"
   ]
  },
  {
   "cell_type": "code",
   "execution_count": 6,
   "metadata": {},
   "outputs": [
    {
     "data": {
      "text/plain": [
       "'Jakarta, CNN Indonesia --Pemerintah akan mengevaluasi pelaksanaan program Kartu Prakerja.\\nSebelumnya, Manajemen Pelaksana Program (PMO) Kartu Prakerja mengatakan pemerintah akan memprioritaskan peserta yang merupakan usulan dari Kementerian Ketenagakerjaan (Kemnaker) mulai dari gelombang IV.\\nUntuk diketahui, Kartu Prakerja sendiri telah memasuki gelombang IV setelah sempat terhenti beberapa waktu karena evaluasi pemerintah.\\nKuota gelombang IV ditambah menjadi 800 ribu orang dari sebelumnya di kisaran 200 ribu hingga 300 ribu orang pada gelombang I hingga III.\\nLalu, dana insentif sebesar Rp600 ribu per bulan selama empat bulan dan insentif survei sebesar Rp50 ribu per bulan selama tiga bulan.'"
      ]
     },
     "execution_count": 6,
     "metadata": {},
     "output_type": "execute_result"
    }
   ],
   "source": [
    "# Get the summary of the article\n",
    "text = article.summary\n",
    "text"
   ]
  },
  {
   "cell_type": "code",
   "execution_count": 7,
   "metadata": {},
   "outputs": [
    {
     "data": {
      "text/plain": [
       "TextBlob(\"Jakarta, CNN Indonesia --Pemerintah akan mengevaluasi pelaksanaan program Kartu Prakerja.\n",
       "Sebelumnya, Manajemen Pelaksana Program (PMO) Kartu Prakerja mengatakan pemerintah akan memprioritaskan peserta yang merupakan usulan dari Kementerian Ketenagakerjaan (Kemnaker) mulai dari gelombang IV.\n",
       "Untuk diketahui, Kartu Prakerja sendiri telah memasuki gelombang IV setelah sempat terhenti beberapa waktu karena evaluasi pemerintah.\n",
       "Kuota gelombang IV ditambah menjadi 800 ribu orang dari sebelumnya di kisaran 200 ribu hingga 300 ribu orang pada gelombang I hingga III.\n",
       "Lalu, dana insentif sebesar Rp600 ribu per bulan selama empat bulan dan insentif survei sebesar Rp50 ribu per bulan selama tiga bulan.\")"
      ]
     },
     "execution_count": 7,
     "metadata": {},
     "output_type": "execute_result"
    }
   ],
   "source": [
    "# Create a TextBlob object\n",
    "obj = TextBlob(text)\n",
    "obj"
   ]
  },
  {
   "cell_type": "code",
   "execution_count": 8,
   "metadata": {},
   "outputs": [
    {
     "data": {
      "text/plain": [
       "TextBlob(\"Jakarta, CNN Indonesia - The government will evaluate the implementation of the Pre-Work Card program.\n",
       "Previously, the Program Implementation Management (PMO) Prakerja Card said the government will prioritize participants who are proposals from the Ministry of Manpower (Kemnaker) starting from wave IV.\n",
       "For information, the Pre-Work Card itself has entered batch IV after being suspended for some time due to government evaluation.\n",
       "The quota for batch IV was increased to 800 thousand people from the previous range of 200 thousand to 300 thousand people in waves I to III.\n",
       "Then, an incentive fund of IDR 600 thousand per month for four months and a survey incentive of IDR 50 thousand per month for three months.\")"
      ]
     },
     "execution_count": 8,
     "metadata": {},
     "output_type": "execute_result"
    }
   ],
   "source": [
    "# Translate article from 'indonesia' to 'english'\n",
    "obj = obj.translate(from_lang='id', to='en')\n",
    "obj"
   ]
  },
  {
   "cell_type": "code",
   "execution_count": 9,
   "metadata": {},
   "outputs": [],
   "source": [
    "sentiment = obj.sentiment.polarity"
   ]
  },
  {
   "cell_type": "code",
   "execution_count": 10,
   "metadata": {},
   "outputs": [
    {
     "name": "stdout",
     "output_type": "stream",
     "text": [
      "This article is negative\n"
     ]
    }
   ],
   "source": [
    "if sentiment == 0:\n",
    "    print('This article is neutral')\n",
    "elif sentiment > 0:\n",
    "    print('This article is positive')\n",
    "else:\n",
    "    print('This article is negative')"
   ]
  },
  {
   "cell_type": "code",
   "execution_count": null,
   "metadata": {},
   "outputs": [],
   "source": []
  }
 ],
 "metadata": {
  "kernelspec": {
   "display_name": "Python 3",
   "language": "python",
   "name": "python3"
  },
  "language_info": {
   "codemirror_mode": {
    "name": "ipython",
    "version": 3
   },
   "file_extension": ".py",
   "mimetype": "text/x-python",
   "name": "python",
   "nbconvert_exporter": "python",
   "pygments_lexer": "ipython3",
   "version": "3.7.6"
  }
 },
 "nbformat": 4,
 "nbformat_minor": 4
}
